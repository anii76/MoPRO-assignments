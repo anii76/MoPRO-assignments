{
 "cells": [
  {
   "cell_type": "code",
   "execution_count": 71,
   "metadata": {},
   "outputs": [],
   "source": [
    "import cplex\n",
    "import numpy as np"
   ]
  },
  {
   "cell_type": "code",
   "execution_count": 72,
   "metadata": {},
   "outputs": [],
   "source": [
    "# first import the Model class from docplex.mp\n",
    "from docplex.mp.model import Model\n",
    "\n",
    "#import data\n",
    "N=5\n",
    "c=np.random.rand(N,N)\n",
    "c= [\n",
    "[99, 7, 8, 5, 3],\n",
    "[ 7,99, 2, 9,10],\n",
    "[ 8, 2,99, 6, 9],\n",
    "[ 5, 9, 6,99, 4],\n",
    "[ 3,10, 9, 4,99]\n",
    "]\n",
    "villes=range(N)\n",
    "# create one model instance, with a name\n",
    "m = Model(name='tsp')"
   ]
  },
  {
   "cell_type": "code",
   "execution_count": 73,
   "metadata": {},
   "outputs": [],
   "source": [
    "# by default, all variables in Docplex have a lower bound of 0 and infinite upper bound\n",
    "x = m.binary_var_matrix(villes,villes,name='x')\n",
    "u = m.integer_var_list(villes,name='u')"
   ]
  },
  {
   "cell_type": "code",
   "execution_count": 74,
   "metadata": {},
   "outputs": [],
   "source": [
    "# write constraints\n",
    "# salesperson entering a node j\n",
    "for j in range(0,N):\n",
    "    m.add_constraint(m.sum(x[i, j] for i in range(0,N)) == 1)\n",
    "\n",
    "# salesperson leaving a node j\n",
    "for i in range(0,N):\n",
    "    m.add_constraint(m.sum(x[i, j] for j in range(0,N)) == 1)\n",
    "\n",
    "\n",
    "for i in range(0,N):\n",
    "    for j in range(0,N):\n",
    "        if (j!= 0) & (j!=i):\n",
    "            m.add_constraint(u[i]-u[j]+N*x[i,j] <= N - 1)"
   ]
  },
  {
   "cell_type": "code",
   "execution_count": 79,
   "metadata": {},
   "outputs": [],
   "source": [
    "m.minimize(m.sum(c[i][j] * x[i,j] for i in range(0,N) for j in range(0,N)))"
   ]
  },
  {
   "cell_type": "code",
   "execution_count": 80,
   "metadata": {},
   "outputs": [
    {
     "name": "stdout",
     "output_type": "stream",
     "text": [
      "Model: tsp\n",
      " - number of variables: 30\n",
      "   - binary=25, integer=5, continuous=0\n",
      " - number of constraints: 26\n",
      "   - linear=26\n",
      " - parameters: defaults\n",
      " - objective: minimize\n",
      " - problem type is: MILP\n"
     ]
    }
   ],
   "source": [
    "m.print_information()"
   ]
  },
  {
   "cell_type": "code",
   "execution_count": 81,
   "metadata": {},
   "outputs": [
    {
     "name": "stdout",
     "output_type": "stream",
     "text": [
      "objective: 22\n",
      "  x_0_4=1\n",
      "  x_1_0=1\n",
      "  x_2_1=1\n",
      "  x_3_2=1\n",
      "  x_4_3=1\n",
      "  u_1=4\n",
      "  u_2=3\n",
      "  u_3=2\n",
      "  u_4=1\n"
     ]
    }
   ],
   "source": [
    "s = m.solve()\n",
    "m.print_solution()"
   ]
  }
 ],
 "metadata": {
  "kernelspec": {
   "display_name": "Python 3 (ipykernel)",
   "language": "python",
   "name": "python3"
  },
  "language_info": {
   "codemirror_mode": {
    "name": "ipython",
    "version": 3
   },
   "file_extension": ".py",
   "mimetype": "text/x-python",
   "name": "python",
   "nbconvert_exporter": "python",
   "pygments_lexer": "ipython3",
   "version": "3.9.2"
  },
  "vscode": {
   "interpreter": {
    "hash": "c7af7df4901773a0e355da496bf365ae011b1b331a57bbc9908dae1ee21823d7"
   }
  }
 },
 "nbformat": 4,
 "nbformat_minor": 2
}
